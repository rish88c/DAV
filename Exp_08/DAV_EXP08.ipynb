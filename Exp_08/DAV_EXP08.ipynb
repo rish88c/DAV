{
  "nbformat": 4,
  "nbformat_minor": 0,
  "metadata": {
    "colab": {
      "provenance": [],
      "authorship_tag": "ABX9TyNFtgjc081xCBtl3N70p4iS",
      "include_colab_link": true
    },
    "kernelspec": {
      "name": "python3",
      "display_name": "Python 3"
    },
    "language_info": {
      "name": "python"
    }
  },
  "cells": [
    {
      "cell_type": "markdown",
      "metadata": {
        "id": "view-in-github",
        "colab_type": "text"
      },
      "source": [
        "<a href=\"https://colab.research.google.com/github/rish88c/DAV/blob/main/Exp_08/DAV_EXP08.ipynb\" target=\"_parent\"><img src=\"https://colab.research.google.com/assets/colab-badge.svg\" alt=\"Open In Colab\"/></a>"
      ]
    },
    {
      "cell_type": "markdown",
      "source": [
        "Experiment No - 08"
      ],
      "metadata": {
        "id": "8gp4VdKTTLAI"
      }
    },
    {
      "cell_type": "markdown",
      "source": [
        "Aim - Set Up a D3.js Environment, Select Elements in D3, Modify Elements in D3,Data Loading in D3."
      ],
      "metadata": {
        "id": "BkaS7iiMTAT5"
      }
    },
    {
      "cell_type": "code",
      "execution_count": null,
      "metadata": {
        "colab": {
          "base_uri": "https://localhost:8080/",
          "height": 268
        },
        "id": "NFLNIkd9D1ag",
        "outputId": "f1389813-4e32-45af-ed16-9505fbc955db"
      },
      "outputs": [
        {
          "output_type": "display_data",
          "data": {
            "text/plain": [
              "<IPython.core.display.HTML object>"
            ],
            "text/html": [
              "<!DOCTYPE html>\n",
              "<html lang=\"en\">\n",
              "<head>\n",
              "    <meta charset=\"UTF-8\">\n",
              "    <meta name=\"viewport\" content=\"width=device-width, initial-scale=1.0\">\n",
              "    <title>Data-Based D3.js Example</title>\n",
              "    <script src=\"https://d3js.org/d3.v5.min.js\"></script>\n",
              "</head>\n",
              "<body>\n",
              "\n",
              "    <h2>Basic D3</h2>\n",
              "    <div id=\"chart-container\"></div>\n",
              "\n",
              "    <script>\n",
              "      // Your D3.js code here\n",
              "      const chartContainer = document.getElementById('chart-container');\n",
              "\n",
              "      const width = 928;\n",
              "      const height = 200;\n",
              "      const svg = d3\n",
              "        .create(\"svg\")\n",
              "        .attr(\"viewBox\", [0, 0, width, height])\n",
              "        .attr(\"width\", width)\n",
              "        .attr(\"height\", height)\n",
              "        .attr(\"style\", \"max-width: 100%; height: auto;\");\n",
              "\n",
              "      svg\n",
              "        .selectAll(\"circle\")\n",
              "        .data(d3.range(18))\n",
              "        .join(\"circle\")\n",
              "        .attr(\"cx\", (d) => 30 + d * 50)\n",
              "        .attr(\"cy\", height / 2)\n",
              "        .attr(\"r\", (d) => Math.random() * 20)\n",
              "        .attr(\"fill\", () => randomColors());\n",
              "\n",
              "      chartContainer.appendChild(svg.node());\n",
              "\n",
              "      function randomColors() {\n",
              "        const letters = \"0123456789ABCDEF\";\n",
              "        let color = \"#\";\n",
              "        for (let i = 0; i < 6; i++) {\n",
              "          color += letters[Math.floor(Math.random() * 16)];\n",
              "        }\n",
              "        return color;\n",
              "      }\n",
              "    </script>\n",
              "\n",
              "</body>\n",
              "</html>\n"
            ]
          },
          "metadata": {}
        }
      ],
      "source": [
        "%%html\n",
        "<!DOCTYPE html>\n",
        "<html lang=\"en\">\n",
        "<head>\n",
        "    <meta charset=\"UTF-8\">\n",
        "    <meta name=\"viewport\" content=\"width=device-width, initial-scale=1.0\">\n",
        "    <title>Data-Based D3.js Example</title>\n",
        "    <script src=\"https://d3js.org/d3.v5.min.js\"></script>\n",
        "</head>\n",
        "<body>\n",
        "\n",
        "    <h2>Basic D3</h2>\n",
        "    <div id=\"chart-container\"></div>\n",
        "\n",
        "    <script>\n",
        "      // Your D3.js code here\n",
        "      const chartContainer = document.getElementById('chart-container');\n",
        "\n",
        "      const width = 928;\n",
        "      const height = 200;\n",
        "      const svg = d3\n",
        "        .create(\"svg\")\n",
        "        .attr(\"viewBox\", [0, 0, width, height])\n",
        "        .attr(\"width\", width)\n",
        "        .attr(\"height\", height)\n",
        "        .attr(\"style\", \"max-width: 100%; height: auto;\");\n",
        "\n",
        "      svg\n",
        "        .selectAll(\"circle\")\n",
        "        .data(d3.range(18))\n",
        "        .join(\"circle\")\n",
        "        .attr(\"cx\", (d) => 30 + d * 50)\n",
        "        .attr(\"cy\", height / 2)\n",
        "        .attr(\"r\", (d) => Math.random() * 20)\n",
        "        .attr(\"fill\", () => randomColors());\n",
        "\n",
        "      chartContainer.appendChild(svg.node());\n",
        "\n",
        "      function randomColors() {\n",
        "        const letters = \"0123456789ABCDEF\";\n",
        "        let color = \"#\";\n",
        "        for (let i = 0; i < 6; i++) {\n",
        "          color += letters[Math.floor(Math.random() * 16)];\n",
        "        }\n",
        "        return color;\n",
        "      }\n",
        "    </script>\n",
        "\n",
        "</body>\n",
        "</html>"
      ]
    },
    {
      "cell_type": "markdown",
      "source": [
        "##SELECT ELEMENTS AND MODIFY"
      ],
      "metadata": {
        "id": "XDypTFhGQsZW"
      }
    },
    {
      "cell_type": "code",
      "source": [
        "%%html\n",
        "<!DOCTYPE html>\n",
        "<html lang=\"en\">\n",
        "<head>\n",
        "  <meta charset=\"UTF-8\">\n",
        "  <meta name=\"viewport\" content=\"width=device-width, initial-scale=1.0\">\n",
        "  <title>D3.js Toggle</title>\n",
        "  <script src=\"https://d3js.org/d3.v7.min.js\"></script>\n",
        "</head>\n",
        "<body>\n",
        "  <svg width=\"400\" height=\"200\"></svg>\n",
        "\n",
        "  <script>\n",
        "    // Select SVG element\n",
        "    const svg = d3.select('svg');\n",
        "\n",
        "    // Initial color state\n",
        "    let colorState = 'red';\n",
        "\n",
        "    // Append circle to SVG\n",
        "    const circle = svg.append('circle')\n",
        "      .attr('cx', 100)\n",
        "      .attr('cy', 100)\n",
        "      .attr('r', 50)\n",
        "      .style('fill', colorState)\n",
        "      .on('click', function() {\n",
        "        // Toggle color state\n",
        "        colorState = colorState === 'red' ? 'green' : 'red';\n",
        "\n",
        "        // Change color of the circle\n",
        "        d3.select(this).style('fill', colorState);\n",
        "\n",
        "        // Remove any existing text\n",
        "        svg.selectAll('text').remove();\n",
        "\n",
        "        // Write text beside the circle\n",
        "        svg.append('text')\n",
        "          .attr('x', 200)\n",
        "          .attr('y', 100)\n",
        "          .text('Color: ' + colorState)\n",
        "          .style('font-size', '16px')\n",
        "          .style('fill', 'black');\n",
        "      });\n",
        "  </script>\n",
        "</body>\n",
        "</html>\n"
      ],
      "metadata": {
        "colab": {
          "base_uri": "https://localhost:8080/",
          "height": 221
        },
        "id": "o_xa0BoNQNfk",
        "outputId": "5f6b3a60-3013-41b0-9e44-253237a6a267"
      },
      "execution_count": null,
      "outputs": [
        {
          "output_type": "display_data",
          "data": {
            "text/plain": [
              "<IPython.core.display.HTML object>"
            ],
            "text/html": [
              "<!DOCTYPE html>\n",
              "<html lang=\"en\">\n",
              "<head>\n",
              "  <meta charset=\"UTF-8\">\n",
              "  <meta name=\"viewport\" content=\"width=device-width, initial-scale=1.0\">\n",
              "  <title>D3.js Toggle</title>\n",
              "  <script src=\"https://d3js.org/d3.v7.min.js\"></script>\n",
              "</head>\n",
              "<body>\n",
              "  <svg width=\"400\" height=\"200\"></svg>\n",
              "\n",
              "  <script>\n",
              "    // Select SVG element\n",
              "    const svg = d3.select('svg');\n",
              "\n",
              "    // Initial color state\n",
              "    let colorState = 'red';\n",
              "\n",
              "    // Append circle to SVG\n",
              "    const circle = svg.append('circle')\n",
              "      .attr('cx', 100)\n",
              "      .attr('cy', 100)\n",
              "      .attr('r', 50)\n",
              "      .style('fill', colorState)\n",
              "      .on('click', function() {\n",
              "        // Toggle color state\n",
              "        colorState = colorState === 'red' ? 'green' : 'red';\n",
              "\n",
              "        // Change color of the circle\n",
              "        d3.select(this).style('fill', colorState);\n",
              "\n",
              "        // Remove any existing text\n",
              "        svg.selectAll('text').remove();\n",
              "\n",
              "        // Write text beside the circle\n",
              "        svg.append('text')\n",
              "          .attr('x', 200)\n",
              "          .attr('y', 100)\n",
              "          .text('Color: ' + colorState)\n",
              "          .style('font-size', '16px')\n",
              "          .style('fill', 'black');\n",
              "      });\n",
              "  </script>\n",
              "</body>\n",
              "</html>\n"
            ]
          },
          "metadata": {}
        }
      ]
    },
    {
      "cell_type": "code",
      "source": [
        "%%html\n",
        "<!DOCTYPE html>\n",
        "<html lang=\"en\">\n",
        "<head>\n",
        "  <meta charset=\"UTF-8\">\n",
        "  <meta name=\"viewport\" content=\"width=device-width, initial-scale=1.0\">\n",
        "  <title>D3.js Dropdown Menu</title>\n",
        "  <script src=\"https://d3js.org/d3.v7.min.js\"></script>\n",
        "  <style>\n",
        "    .color-square {\n",
        "      width: 100px;\n",
        "      height: 100px;\n",
        "      border: 1px solid black;\n",
        "      margin-top: 20px;\n",
        "    }\n",
        "  </style>\n",
        "</head>\n",
        "<body>\n",
        "  <select id=\"dropdown\">\n",
        "    <option value=\"red\">Red</option>\n",
        "    <option value=\"green\">Green</option>\n",
        "    <option value=\"blue\">Blue</option>\n",
        "  </select>\n",
        "\n",
        "  <div id=\"colorDisplay\" class=\"color-square\"></div>\n",
        "\n",
        "  <script>\n",
        "    // Handle selection change\n",
        "    d3.select('#dropdown').on('change', function() {\n",
        "      const color = this.value;\n",
        "      console.log('Selected color:', color);\n",
        "      // Update color display\n",
        "      d3.select('#colorDisplay').style('background-color', color);\n",
        "    });\n",
        "  </script>\n",
        "</body>\n",
        "</html>\n"
      ],
      "metadata": {
        "colab": {
          "base_uri": "https://localhost:8080/",
          "height": 157
        },
        "id": "lH1UA2CXQvZu",
        "outputId": "28265134-7b28-4d74-d2e7-6f9411bbcecc"
      },
      "execution_count": null,
      "outputs": [
        {
          "output_type": "display_data",
          "data": {
            "text/plain": [
              "<IPython.core.display.HTML object>"
            ],
            "text/html": [
              "<!DOCTYPE html>\n",
              "<html lang=\"en\">\n",
              "<head>\n",
              "  <meta charset=\"UTF-8\">\n",
              "  <meta name=\"viewport\" content=\"width=device-width, initial-scale=1.0\">\n",
              "  <title>D3.js Dropdown Menu</title>\n",
              "  <script src=\"https://d3js.org/d3.v7.min.js\"></script>\n",
              "  <style>\n",
              "    .color-square {\n",
              "      width: 100px;\n",
              "      height: 100px;\n",
              "      border: 1px solid black;\n",
              "      margin-top: 20px;\n",
              "    }\n",
              "  </style>\n",
              "</head>\n",
              "<body>\n",
              "  <select id=\"dropdown\">\n",
              "    <option value=\"red\">Red</option>\n",
              "    <option value=\"green\">Green</option>\n",
              "    <option value=\"blue\">Blue</option>\n",
              "  </select>\n",
              "\n",
              "  <div id=\"colorDisplay\" class=\"color-square\"></div>\n",
              "\n",
              "  <script>\n",
              "    // Handle selection change\n",
              "    d3.select('#dropdown').on('change', function() {\n",
              "      const color = this.value;\n",
              "      console.log('Selected color:', color);\n",
              "      // Update color display\n",
              "      d3.select('#colorDisplay').style('background-color', color);\n",
              "    });\n",
              "  </script>\n",
              "</body>\n",
              "</html>\n"
            ]
          },
          "metadata": {}
        }
      ]
    },
    {
      "cell_type": "markdown",
      "source": [
        "#DATA LOADING"
      ],
      "metadata": {
        "id": "ThVAzDLjNLg7"
      }
    },
    {
      "cell_type": "code",
      "source": [
        "%%html\n",
        "<!DOCTYPE html>\n",
        "<html lang=\"en\">\n",
        "<head>\n",
        "  <meta charset=\"UTF-8\">\n",
        "  <meta name=\"viewport\" content=\"width=device-width, initial-scale=1.0\">\n",
        "  <title>D3.js Bar Chart</title>\n",
        "  <script src=\"https://d3js.org/d3.v7.min.js\"></script>\n",
        "</head>\n",
        "<body>\n",
        "  <svg width=\"400\" height=\"200\"></svg>\n",
        "\n",
        "  <script>\n",
        "    // Sample data\n",
        "    const data = [10, 20, 30, 40, 50];\n",
        "\n",
        "    // Create SVG element\n",
        "    const svg = d3.select('svg');\n",
        "\n",
        "    // Create scales\n",
        "    const xScale = d3.scaleBand()\n",
        "      .domain(d3.range(data.length))\n",
        "      .range([0, 400])\n",
        "      .padding(0.1);\n",
        "\n",
        "    const yScale = d3.scaleLinear()\n",
        "      .domain([0, d3.max(data)])\n",
        "      .range([200, 0]);\n",
        "\n",
        "    // Create bars\n",
        "    svg.selectAll('rect')\n",
        "      .data(data)\n",
        "      .enter()\n",
        "      .append('rect')\n",
        "      .attr('x', (d, i) => xScale(i))\n",
        "      .attr('y', d => yScale(d))\n",
        "      .attr('width', xScale.bandwidth())\n",
        "      .attr('height', d => 200 - yScale(d))\n",
        "      .attr('fill', 'steelblue');\n",
        "  </script>\n",
        "</body>\n",
        "</html>\n"
      ],
      "metadata": {
        "colab": {
          "base_uri": "https://localhost:8080/",
          "height": 221
        },
        "id": "odC72BmoOoGs",
        "outputId": "86044a8a-376e-4980-cde5-28e133e664ed"
      },
      "execution_count": null,
      "outputs": [
        {
          "output_type": "display_data",
          "data": {
            "text/plain": [
              "<IPython.core.display.HTML object>"
            ],
            "text/html": [
              "<!DOCTYPE html>\n",
              "<html lang=\"en\">\n",
              "<head>\n",
              "  <meta charset=\"UTF-8\">\n",
              "  <meta name=\"viewport\" content=\"width=device-width, initial-scale=1.0\">\n",
              "  <title>D3.js Bar Chart</title>\n",
              "  <script src=\"https://d3js.org/d3.v7.min.js\"></script>\n",
              "</head>\n",
              "<body>\n",
              "  <svg width=\"400\" height=\"200\"></svg>\n",
              "\n",
              "  <script>\n",
              "    // Sample data\n",
              "    const data = [10, 20, 30, 40, 50];\n",
              "\n",
              "    // Create SVG element\n",
              "    const svg = d3.select('svg');\n",
              "\n",
              "    // Create scales\n",
              "    const xScale = d3.scaleBand()\n",
              "      .domain(d3.range(data.length))\n",
              "      .range([0, 400])\n",
              "      .padding(0.1);\n",
              "\n",
              "    const yScale = d3.scaleLinear()\n",
              "      .domain([0, d3.max(data)])\n",
              "      .range([200, 0]);\n",
              "\n",
              "    // Create bars\n",
              "    svg.selectAll('rect')\n",
              "      .data(data)\n",
              "      .enter()\n",
              "      .append('rect')\n",
              "      .attr('x', (d, i) => xScale(i))\n",
              "      .attr('y', d => yScale(d))\n",
              "      .attr('width', xScale.bandwidth())\n",
              "      .attr('height', d => 200 - yScale(d))\n",
              "      .attr('fill', 'steelblue');\n",
              "  </script>\n",
              "</body>\n",
              "</html>\n"
            ]
          },
          "metadata": {}
        }
      ]
    },
    {
      "cell_type": "code",
      "source": [
        "%%html\n",
        "<!DOCTYPE html>\n",
        "<html>\n",
        "<head>\n",
        "  <script src=\"https://d3js.org/d3.v7.min.js\"></script>\n",
        "</head>\n",
        "<body>\n",
        "  <div id=\"visualization\"></div>\n",
        "\n",
        "  <script>\n",
        "    // Data for the bar chart\n",
        "    const data = [30, 86, 168, 281, 303, 365];\n",
        "\n",
        "    // Create a bar chart using D3.js\n",
        "    d3.select(\"#visualization\")\n",
        "      .selectAll(\"div\")\n",
        "      .data(data)\n",
        "      .enter()\n",
        "      .append(\"div\")\n",
        "      .style(\"width\", d => d + \"px\")\n",
        "      .style(\"height\", \"20px\")  // Set height for bars\n",
        "      .style(\"background-color\", \"steelblue\")  // Set bar color\n",
        "      .style(\"margin\", \"2px 0\")  // Add margin between bars\n",
        "      .text(d => d);\n",
        "  </script>\n",
        "</body>\n",
        "</html>\n"
      ],
      "metadata": {
        "colab": {
          "base_uri": "https://localhost:8080/",
          "height": 151
        },
        "id": "1UHfFPXnFp8E",
        "outputId": "6ec5cb9c-8cbd-4ca5-89eb-792f316f7302"
      },
      "execution_count": null,
      "outputs": [
        {
          "output_type": "display_data",
          "data": {
            "text/plain": [
              "<IPython.core.display.HTML object>"
            ],
            "text/html": [
              "<!DOCTYPE html>\n",
              "<html>\n",
              "<head>\n",
              "  <script src=\"https://d3js.org/d3.v7.min.js\"></script>\n",
              "</head>\n",
              "<body>\n",
              "  <div id=\"visualization\"></div>\n",
              "\n",
              "  <script>\n",
              "    // Data for the bar chart\n",
              "    const data = [30, 86, 168, 281, 303, 365];\n",
              "\n",
              "    // Create a bar chart using D3.js\n",
              "    d3.select(\"#visualization\")\n",
              "      .selectAll(\"div\")\n",
              "      .data(data)\n",
              "      .enter()\n",
              "      .append(\"div\")\n",
              "      .style(\"width\", d => d + \"px\")\n",
              "      .style(\"height\", \"20px\")  // Set height for bars\n",
              "      .style(\"background-color\", \"steelblue\")  // Set bar color\n",
              "      .style(\"margin\", \"2px 0\")  // Add margin between bars\n",
              "      .text(d => d);\n",
              "  </script>\n",
              "</body>\n",
              "</html>\n"
            ]
          },
          "metadata": {}
        }
      ]
    },
    {
      "cell_type": "markdown",
      "source": [
        "##ANIMATIONS"
      ],
      "metadata": {
        "id": "wda9YwJFS56X"
      }
    },
    {
      "cell_type": "code",
      "source": [
        "%%html\n",
        "<!DOCTYPE html>\n",
        "<html lang=\"en\">\n",
        "<head>\n",
        "  <meta charset=\"UTF-8\">\n",
        "  <meta name=\"viewport\" content=\"width=device-width, initial-scale=1.0\">\n",
        "  <title>Bouncing Ball Animation</title>\n",
        "  <script src=\"https://d3js.org/d3.v7.min.js\"></script>\n",
        "  <style>\n",
        "    #container {\n",
        "      width: 400px;\n",
        "      height: 400px;\n",
        "      border: 1px solid black;\n",
        "      position: relative;\n",
        "    }\n",
        "    #ball {\n",
        "      width: 50px;\n",
        "      height: 50px;\n",
        "      border-radius: 50%;\n",
        "      background-color: red;\n",
        "      position: absolute;\n",
        "    }\n",
        "  </style>\n",
        "</head>\n",
        "<body>\n",
        "  <div id=\"container\">\n",
        "    <div id=\"ball\"></div>\n",
        "  </div>\n",
        "\n",
        "  <script>\n",
        "    const container = d3.select('#container');\n",
        "    const ball = d3.select('#ball');\n",
        "\n",
        "    // Initial position and velocity\n",
        "    let x = 50;\n",
        "    let y = 50;\n",
        "    let vx = 5;\n",
        "    let vy = 3;\n",
        "\n",
        "    // Animation loop\n",
        "    function animate() {\n",
        "      x += vx;\n",
        "      y += vy;\n",
        "\n",
        "      // Bounce off the walls\n",
        "      if (x <= 0 || x >= 350) {\n",
        "        vx = -vx;\n",
        "      }\n",
        "      if (y <= 0 || y >= 350) {\n",
        "        vy = -vy;\n",
        "      }\n",
        "\n",
        "      // Update ball position\n",
        "      ball.style('left', x + 'px')\n",
        "          .style('top', y + 'px');\n",
        "\n",
        "      // Request next frame\n",
        "      requestAnimationFrame(animate);\n",
        "    }\n",
        "\n",
        "    // Start animation\n",
        "    animate();\n",
        "  </script>\n",
        "</body>\n",
        "</html>\n"
      ],
      "metadata": {
        "colab": {
          "base_uri": "https://localhost:8080/",
          "height": 419
        },
        "id": "Q_h6Kyv4Sv1r",
        "outputId": "c8821db8-e096-417f-e9a5-37c9459618a7"
      },
      "execution_count": null,
      "outputs": [
        {
          "output_type": "display_data",
          "data": {
            "text/plain": [
              "<IPython.core.display.HTML object>"
            ],
            "text/html": [
              "<!DOCTYPE html>\n",
              "<html lang=\"en\">\n",
              "<head>\n",
              "  <meta charset=\"UTF-8\">\n",
              "  <meta name=\"viewport\" content=\"width=device-width, initial-scale=1.0\">\n",
              "  <title>Bouncing Ball Animation</title>\n",
              "  <script src=\"https://d3js.org/d3.v7.min.js\"></script>\n",
              "  <style>\n",
              "    #container {\n",
              "      width: 400px;\n",
              "      height: 400px;\n",
              "      border: 1px solid black;\n",
              "      position: relative;\n",
              "    }\n",
              "    #ball {\n",
              "      width: 50px;\n",
              "      height: 50px;\n",
              "      border-radius: 50%;\n",
              "      background-color: red;\n",
              "      position: absolute;\n",
              "    }\n",
              "  </style>\n",
              "</head>\n",
              "<body>\n",
              "  <div id=\"container\">\n",
              "    <div id=\"ball\"></div>\n",
              "  </div>\n",
              "\n",
              "  <script>\n",
              "    const container = d3.select('#container');\n",
              "    const ball = d3.select('#ball');\n",
              "\n",
              "    // Initial position and velocity\n",
              "    let x = 50;\n",
              "    let y = 50;\n",
              "    let vx = 5;\n",
              "    let vy = 3;\n",
              "\n",
              "    // Animation loop\n",
              "    function animate() {\n",
              "      x += vx;\n",
              "      y += vy;\n",
              "\n",
              "      // Bounce off the walls\n",
              "      if (x <= 0 || x >= 350) {\n",
              "        vx = -vx;\n",
              "      }\n",
              "      if (y <= 0 || y >= 350) {\n",
              "        vy = -vy;\n",
              "      }\n",
              "\n",
              "      // Update ball position\n",
              "      ball.style('left', x + 'px')\n",
              "          .style('top', y + 'px');\n",
              "\n",
              "      // Request next frame\n",
              "      requestAnimationFrame(animate);\n",
              "    }\n",
              "\n",
              "    // Start animation\n",
              "    animate();\n",
              "  </script>\n",
              "</body>\n",
              "</html>\n"
            ]
          },
          "metadata": {}
        }
      ]
    },
    {
      "cell_type": "markdown",
      "source": [
        "Conclusion - Implemented the basics of D3.js"
      ],
      "metadata": {
        "id": "FMhQm4q0O7Dv"
      }
    }
  ]
}